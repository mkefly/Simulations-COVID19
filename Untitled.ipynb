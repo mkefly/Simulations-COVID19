{
 "cells": [
  {
   "cell_type": "code",
   "execution_count": null,
   "metadata": {},
   "outputs": [],
   "source": [
    "import sys \n",
    "import os \n",
    "import Simulations_COVID19 as SCovid19 \n",
    "import numpy as np \n",
    "import pandas as pd \n",
    "\n",
    "''' Load and collect data for the web, fit the phenom models and save the info for the web. ''' \n",
    "\n",
    "samples = 10 \n",
    "number_days = 200 \n",
    "n_steps = 2 \n",
    "list_countries = ['Spain','Italy']#,'US','France','United Kingdom','Germany','Netherlands'] \n",
    "\n",
    "folder_html = './tables/' \n",
    "folder_images = './images/' \n",
    "\n",
    "for folder in [folder_html,folder_images]: \n",
    "\tif not os.path.exists(folder): os.makedirs(folder) \n",
    "\n",
    "Dates = {'Spain':{'3/8/20':['M8','-.'],'3/14/20':['Lockdown','--']}, 'Italy':{'3/9/20':['Lockdown','--']}, 'Hubai':{'1/23/20':['Lockdown','--']}} \n",
    "\n",
    "####### LOAD ####### \n",
    "path='../covid19_scenarios_data/case-counts/' \n",
    "dataloader = SCovid19.data_loader() \n",
    "dataloader.collect_data_neherlab(path, get_geo_loc = False) \n",
    "\n",
    "file = 'cases_world.json' \n",
    "dataloader.data.reset_index().drop(['index'], axis = 1).to_json(path+file) \n",
    "pd.read_json(path+file, orient='columns') \n",
    "\n",
    "phenomsirs = SCovid19.phenom_simulator(countries = list_countries, phenom_constrains = [0, 1, 200, 100, 20000, 15000], data_table = dataloader.data) \n",
    "for method in ['log-model','gompertz-model']: \n",
    "\t_ = phenomsirs.sample_posterior_predictive_model(method = method, field = 'deaths', samples = samples, number_days = number_days, n_steps=n_steps) \n",
    "\tphenomsirs.save_table(path = path, file = 'phenom.json')"
   ]
  },
  {
   "cell_type": "code",
   "execution_count": 34,
   "metadata": {},
   "outputs": [
    {
     "ename": "ValueError",
     "evalue": "need at least one array to concatenate",
     "output_type": "error",
     "traceback": [
      "\u001b[0;31m---------------------------------------------------------------------------\u001b[0m",
      "\u001b[0;31mValueError\u001b[0m                                Traceback (most recent call last)",
      "\u001b[0;32m<ipython-input-34-881264389a21>\u001b[0m in \u001b[0;36m<module>\u001b[0;34m\u001b[0m\n\u001b[0;32m----> 1\u001b[0;31m \u001b[0mphenomsirs\u001b[0m\u001b[0;34m.\u001b[0m\u001b[0msave_table\u001b[0m\u001b[0;34m(\u001b[0m\u001b[0mpath\u001b[0m \u001b[0;34m=\u001b[0m \u001b[0mpath\u001b[0m\u001b[0;34m,\u001b[0m \u001b[0mfile\u001b[0m \u001b[0;34m=\u001b[0m \u001b[0;34m'phenom.json'\u001b[0m\u001b[0;34m)\u001b[0m\u001b[0;34m\u001b[0m\u001b[0;34m\u001b[0m\u001b[0m\n\u001b[0m",
      "\u001b[0;32m~/github/mkefly.github.io/Simulations_COVID19/Simulations_COVID19/utilitis.py\u001b[0m in \u001b[0;36msave_table\u001b[0;34m(self, path, file)\u001b[0m\n\u001b[1;32m    244\u001b[0m                 \u001b[0mdatas\u001b[0m \u001b[0;34m+=\u001b[0m \u001b[0;34m[\u001b[0m\u001b[0mnp\u001b[0m\u001b[0;34m.\u001b[0m\u001b[0mpad\u001b[0m\u001b[0;34m(\u001b[0m\u001b[0mself\u001b[0m\u001b[0;34m.\u001b[0m\u001b[0mdata\u001b[0m\u001b[0;34m[\u001b[0m\u001b[0;34m(\u001b[0m\u001b[0mself\u001b[0m\u001b[0;34m.\u001b[0m\u001b[0mdata\u001b[0m\u001b[0;34m[\u001b[0m\u001b[0;34m'Country'\u001b[0m\u001b[0;34m]\u001b[0m \u001b[0;34m==\u001b[0m \u001b[0mCountry\u001b[0m\u001b[0;34m)\u001b[0m\u001b[0;34m]\u001b[0m\u001b[0;34m[\u001b[0m\u001b[0mfield\u001b[0m\u001b[0;34m]\u001b[0m\u001b[0;34m,\u001b[0m \u001b[0;34m(\u001b[0m\u001b[0;36m0\u001b[0m\u001b[0;34m,\u001b[0m \u001b[0mN\u001b[0m\u001b[0;34m-\u001b[0m\u001b[0mlen\u001b[0m\u001b[0;34m(\u001b[0m\u001b[0mself\u001b[0m\u001b[0;34m.\u001b[0m\u001b[0mdata\u001b[0m\u001b[0;34m[\u001b[0m\u001b[0;34m(\u001b[0m\u001b[0mself\u001b[0m\u001b[0;34m.\u001b[0m\u001b[0mdata\u001b[0m\u001b[0;34m[\u001b[0m\u001b[0;34m'Country'\u001b[0m\u001b[0;34m]\u001b[0m \u001b[0;34m==\u001b[0m \u001b[0mCountry\u001b[0m\u001b[0;34m)\u001b[0m\u001b[0;34m]\u001b[0m\u001b[0;34m[\u001b[0m\u001b[0mfield\u001b[0m\u001b[0;34m]\u001b[0m\u001b[0;34m)\u001b[0m\u001b[0;34m)\u001b[0m\u001b[0;34m,\u001b[0m \u001b[0;34m'constant'\u001b[0m\u001b[0;34m,\u001b[0m \u001b[0mconstant_values\u001b[0m\u001b[0;34m=\u001b[0m\u001b[0;34m(\u001b[0m\u001b[0;36m0\u001b[0m\u001b[0;34m,\u001b[0m \u001b[0mnp\u001b[0m\u001b[0;34m.\u001b[0m\u001b[0mnan\u001b[0m\u001b[0;34m)\u001b[0m\u001b[0;34m)\u001b[0m\u001b[0;34m]\u001b[0m\u001b[0;34m\u001b[0m\u001b[0;34m\u001b[0m\u001b[0m\n\u001b[1;32m    245\u001b[0m         \u001b[0mdata\u001b[0m\u001b[0;34m[\u001b[0m\u001b[0;34m'vmean'\u001b[0m\u001b[0;34m]\u001b[0m \u001b[0;34m=\u001b[0m \u001b[0mnp\u001b[0m\u001b[0;34m.\u001b[0m\u001b[0mconcatenate\u001b[0m\u001b[0;34m(\u001b[0m\u001b[0mvmean\u001b[0m\u001b[0;34m)\u001b[0m\u001b[0;34m\u001b[0m\u001b[0;34m\u001b[0m\u001b[0m\n\u001b[0;32m--> 246\u001b[0;31m         \u001b[0mdata\u001b[0m\u001b[0;34m[\u001b[0m\u001b[0;34m'vmin'\u001b[0m\u001b[0;34m]\u001b[0m \u001b[0;34m=\u001b[0m \u001b[0mnp\u001b[0m\u001b[0;34m.\u001b[0m\u001b[0mconcatenate\u001b[0m\u001b[0;34m(\u001b[0m\u001b[0mvmin\u001b[0m\u001b[0;34m)\u001b[0m\u001b[0;34m\u001b[0m\u001b[0;34m\u001b[0m\u001b[0m\n\u001b[0m\u001b[1;32m    247\u001b[0m         \u001b[0mdata\u001b[0m\u001b[0;34m[\u001b[0m\u001b[0;34m'vmax'\u001b[0m\u001b[0;34m]\u001b[0m \u001b[0;34m=\u001b[0m \u001b[0mnp\u001b[0m\u001b[0;34m.\u001b[0m\u001b[0mconcatenate\u001b[0m\u001b[0;34m(\u001b[0m\u001b[0mvmax\u001b[0m\u001b[0;34m)\u001b[0m\u001b[0;34m\u001b[0m\u001b[0;34m\u001b[0m\u001b[0m\n\u001b[1;32m    248\u001b[0m         \u001b[0mdata\u001b[0m\u001b[0;34m[\u001b[0m\u001b[0;34m'data'\u001b[0m\u001b[0;34m]\u001b[0m \u001b[0;34m=\u001b[0m \u001b[0mnp\u001b[0m\u001b[0;34m.\u001b[0m\u001b[0mconcatenate\u001b[0m\u001b[0;34m(\u001b[0m\u001b[0mdatas\u001b[0m\u001b[0;34m)\u001b[0m\u001b[0;34m\u001b[0m\u001b[0;34m\u001b[0m\u001b[0m\n",
      "\u001b[0;32m<__array_function__ internals>\u001b[0m in \u001b[0;36mconcatenate\u001b[0;34m(*args, **kwargs)\u001b[0m\n",
      "\u001b[0;31mValueError\u001b[0m: need at least one array to concatenate"
     ]
    }
   ],
   "source": [
    "data = pd.DataFrame()\n",
    "\n",
    "field = 'deaths'\n",
    "vmean = []\n",
    "vmin = []\n",
    "vmax = []\n",
    "model = []\n",
    "Countries = []\n",
    "times = []\n",
    "datas = []\n",
    "for method, values in phenomsirs.post_preds.items():\n",
    "    for Country in values.keys():\n",
    "        mean_value = np.mean(phenomsirs.post_preds[method][Country][Country].T,axis=1)   \n",
    "        std_value = np.std(phenomsirs.post_preds[method][Country][Country].T,axis=1)\n",
    "        vmean += [mean_value]\n",
    "        vmin += [mean_value + std_value]\n",
    "        vmax += [mean_value - std_value]\n",
    "        N = len(vmax[0])\n",
    "        Countries += [Country for i in range(N)]\n",
    "        model += [method for i in range(N)]\n",
    "        #times += date_list(phenomsirs.data[(phenomsirs.data['Country'] == Country)].time.head(1).values[0], N)\n",
    "        datas += [np.pad(phenomsirs.data[(phenomsirs.data['Country'] == Country)][field], (0, N-len(phenomsirs.data[(phenomsirs.data['Country'] == Country)][field])), 'constant', constant_values=(0, np.nan))]\n",
    "data['vmean'] = np.concatenate(vmean)\n",
    "data['vmin'] = np.concatenate(vmin)\n",
    "data['vmax'] = np.concatenate(vmax)\n",
    "data['data'] = np.concatenate(datas)\n",
    "data['Country'] = Countries\n",
    "data['model'] = model\n",
    "#data['time'] = times\n",
    "data.to_json(path+file)"
   ]
  },
  {
   "cell_type": "code",
   "execution_count": 4,
   "metadata": {},
   "outputs": [
    {
     "data": {
      "text/plain": [
       "dict_keys(['gompertz-model'])"
      ]
     },
     "execution_count": 4,
     "metadata": {},
     "output_type": "execute_result"
    }
   ],
   "source": [
    "phenomsirs.post_preds.keys()"
   ]
  },
  {
   "cell_type": "code",
   "execution_count": 24,
   "metadata": {},
   "outputs": [
    {
     "data": {
      "text/plain": [
       "{'Italy, Full Country': <MultiTrace: 1 chains, 1000 iterations, 14 variables>,\n",
       " 'Spain, Full Country': <MultiTrace: 1 chains, 1000 iterations, 14 variables>}"
      ]
     },
     "execution_count": 24,
     "metadata": {},
     "output_type": "execute_result"
    }
   ],
   "source": [
    "p"
   ]
  },
  {
   "cell_type": "code",
   "execution_count": null,
   "metadata": {},
   "outputs": [],
   "source": []
  }
 ],
 "metadata": {
  "kernelspec": {
   "display_name": "Python 3",
   "language": "python",
   "name": "python3"
  },
  "language_info": {
   "codemirror_mode": {
    "name": "ipython",
    "version": 3
   },
   "file_extension": ".py",
   "mimetype": "text/x-python",
   "name": "python",
   "nbconvert_exporter": "python",
   "pygments_lexer": "ipython3",
   "version": "3.7.7"
  },
  "toc": {
   "base_numbering": 1,
   "nav_menu": {},
   "number_sections": true,
   "sideBar": true,
   "skip_h1_title": false,
   "title_cell": "Table of Contents",
   "title_sidebar": "Contents",
   "toc_cell": false,
   "toc_position": {},
   "toc_section_display": true,
   "toc_window_display": false
  }
 },
 "nbformat": 4,
 "nbformat_minor": 2
}
